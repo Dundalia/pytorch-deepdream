{
 "cells": [
  {
   "cell_type": "code",
   "execution_count": 4,
   "id": "0a81d071-c12c-49db-b065-27bd659945fd",
   "metadata": {},
   "outputs": [],
   "source": [
    "# I always like to structure my imports into Python's native libs,\n",
    "# stuff I installed via conda/pip and local file imports (but we don't have those here)\n",
    "\n",
    "# Python native libs\n",
    "import os\n",
    "import enum\n",
    "from collections import namedtuple\n",
    "import argparse\n",
    "import numbers\n",
    "import math\n",
    "\n",
    "\n",
    "# Deep learning related imports\n",
    "import torch\n",
    "import torch.nn as nn\n",
    "from torchvision import models\n",
    "from torchvision import transforms\n",
    "import torch.nn.functional as F\n",
    "import clip\n",
    "import open_clip\n",
    "\n",
    "import cv2 as cv\n",
    "import numpy as np\n",
    "import matplotlib.pyplot as plt  # visualizations\n",
    "from PIL import Image\n",
    "\n",
    "import utils.constants as constants\n",
    "import utils.utils as utils\n",
    "import deepdream\n",
    "import importlib\n",
    "\n",
    "importlib.reload(deepdream)\n",
    "importlib.reload(utils)\n",
    "importlib.reload(constants)\n",
    "\n",
    "from utils.constants import *\n",
    "from utils.utils import *\n",
    "import utils.utils as utils\n",
    "\n",
    "from deepdream import *\n",
    "\n",
    "import importlib\n",
    "importlib.reload(utils)\n",
    "importlib.reload(constants)\n",
    "\n",
    "from utils.constants import *\n",
    "from utils.utils import *\n",
    "import utils.utils as utils\n",
    "\n",
    "from collections import defaultdict"
   ]
  },
  {
   "cell_type": "code",
   "execution_count": 7,
   "id": "466c9b53-f0e7-4c58-a27c-3ea6e1fe6c93",
   "metadata": {},
   "outputs": [
    {
     "data": {
      "text/plain": [
       "['laion2b_s34b_b82k_augreg',\n",
       " 'laion2b_s34b_b82k_augreg_rewind',\n",
       " 'laion2b_s34b_b82k_augreg_soup']"
      ]
     },
     "execution_count": 7,
     "metadata": {},
     "output_type": "execute_result"
    }
   ],
   "source": [
    "open_clip.list_pretrained_tags_by_model(\"convnext_xxlarge\")"
   ]
  },
  {
   "cell_type": "code",
   "execution_count": 10,
   "id": "8a0243d6-912e-4e49-8bed-bf3363bec3c2",
   "metadata": {},
   "outputs": [
    {
     "data": {
      "application/vnd.jupyter.widget-view+json": {
       "model_id": "f9895330be2642868470153dacf556a3",
       "version_major": 2,
       "version_minor": 0
      },
      "text/plain": [
       "Downloading (…)ip_pytorch_model.bin:   0%|          | 0.00/4.80G [00:00<?, ?B/s]"
      ]
     },
     "metadata": {},
     "output_type": "display_data"
    }
   ],
   "source": [
    "model = open_clip.create_model(\n",
    "                \"convnext_xxlarge\", \n",
    "                pretrained='laion2b_s34b_b82k_augreg_soup', \n",
    "                require_pretrained=True\n",
    "            ).visual.eval()"
   ]
  },
  {
   "cell_type": "code",
   "execution_count": 21,
   "id": "699c9b33-1e76-4897-8d4a-fdc27b25102f",
   "metadata": {},
   "outputs": [
    {
     "data": {
      "text/plain": [
       "4"
      ]
     },
     "execution_count": 21,
     "metadata": {},
     "output_type": "execute_result"
    }
   ],
   "source": [
    "len(model.trunk.stages)"
   ]
  },
  {
   "cell_type": "code",
   "execution_count": 12,
   "id": "82a52880-2663-4b1f-988f-cbd6baddcb2b",
   "metadata": {},
   "outputs": [
    {
     "data": {
      "text/plain": [
       "odict_keys(['trunk', 'head'])"
      ]
     },
     "execution_count": 12,
     "metadata": {},
     "output_type": "execute_result"
    }
   ],
   "source": [
    "model._modules.keys()\n"
   ]
  },
  {
   "cell_type": "code",
   "execution_count": 28,
   "id": "08282af7-475b-46e6-8cfc-89b85214d5f9",
   "metadata": {},
   "outputs": [
    {
     "name": "stdout",
     "output_type": "stream",
     "text": [
      "    def forward(self, input):\n",
      "        for module in self:\n",
      "            input = module(input)\n",
      "        return input\n",
      "\n",
      "====\n",
      "    def forward_head(self, x, pre_logits: bool = False):\n",
      "        return self.head(x, pre_logits=True) if pre_logits else self.head(x)\n",
      "\n"
     ]
    }
   ],
   "source": [
    "import inspect\n",
    "print(inspect.getsource(model.trunk.stages.forward))\n",
    "print(\"====\")\n",
    "print(inspect.getsource(model.trunk.forward_head))"
   ]
  },
  {
   "cell_type": "code",
   "execution_count": 24,
   "id": "55519a3b-900f-4b23-a7a7-c3bbd1388462",
   "metadata": {},
   "outputs": [
    {
     "name": "stdout",
     "output_type": "stream",
     "text": [
      "    def forward(self, x):\n",
      "        x = self.trunk(x)\n",
      "        x = self.head(x)\n",
      "        return x\n",
      "\n",
      "===\n",
      "    def forward(self, x):\n",
      "        x = self.forward_features(x)\n",
      "        x = self.forward_head(x)\n",
      "        return x\n",
      "\n"
     ]
    }
   ],
   "source": [
    "print(inspect.getsource(model.forward))\n",
    "print(\"===\")\n",
    "print(inspect.getsource(model.trunk.forward))\n"
   ]
  },
  {
   "cell_type": "code",
   "execution_count": 27,
   "id": "4f813a90-5e22-487d-b874-fa39b8f60162",
   "metadata": {},
   "outputs": [
    {
     "data": {
      "text/plain": [
       "Sequential(\n",
       "  (0): Conv2d(3, 384, kernel_size=(4, 4), stride=(4, 4))\n",
       "  (1): LayerNorm2d((384,), eps=1e-05, elementwise_affine=True)\n",
       ")"
      ]
     },
     "execution_count": 27,
     "metadata": {},
     "output_type": "execute_result"
    }
   ],
   "source": [
    "model.trunk.stem"
   ]
  },
  {
   "cell_type": "code",
   "execution_count": null,
   "id": "f748cdd2-7582-4310-bfd4-34af02c97c7d",
   "metadata": {},
   "outputs": [],
   "source": []
  }
 ],
 "metadata": {
  "kernelspec": {
   "display_name": "deepdream",
   "language": "python",
   "name": "deepdream"
  },
  "language_info": {
   "codemirror_mode": {
    "name": "ipython",
    "version": 3
   },
   "file_extension": ".py",
   "mimetype": "text/x-python",
   "name": "python",
   "nbconvert_exporter": "python",
   "pygments_lexer": "ipython3",
   "version": "3.8.10"
  }
 },
 "nbformat": 4,
 "nbformat_minor": 5
}
